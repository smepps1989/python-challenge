{
 "cells": [
  {
   "cell_type": "code",
   "execution_count": 1,
   "id": "6e6173c0",
   "metadata": {},
   "outputs": [],
   "source": [
    "#import pandas as pd\n",
    "#from pathlib import Path\n",
    "\n",
    "import os\n",
    "import csv"
   ]
  },
  {
   "cell_type": "code",
   "execution_count": 6,
   "id": "1cce400b",
   "metadata": {},
   "outputs": [
    {
     "data": {
      "text/html": [
       "<div>\n",
       "<style scoped>\n",
       "    .dataframe tbody tr th:only-of-type {\n",
       "        vertical-align: middle;\n",
       "    }\n",
       "\n",
       "    .dataframe tbody tr th {\n",
       "        vertical-align: top;\n",
       "    }\n",
       "\n",
       "    .dataframe thead th {\n",
       "        text-align: right;\n",
       "    }\n",
       "</style>\n",
       "<table border=\"1\" class=\"dataframe\">\n",
       "  <thead>\n",
       "    <tr style=\"text-align: right;\">\n",
       "      <th></th>\n",
       "      <th>Date</th>\n",
       "      <th>Profit/Losses</th>\n",
       "    </tr>\n",
       "  </thead>\n",
       "  <tbody>\n",
       "    <tr>\n",
       "      <th>0</th>\n",
       "      <td>Jan-10</td>\n",
       "      <td>1088983</td>\n",
       "    </tr>\n",
       "    <tr>\n",
       "      <th>1</th>\n",
       "      <td>Feb-10</td>\n",
       "      <td>-354534</td>\n",
       "    </tr>\n",
       "    <tr>\n",
       "      <th>2</th>\n",
       "      <td>Mar-10</td>\n",
       "      <td>276622</td>\n",
       "    </tr>\n",
       "    <tr>\n",
       "      <th>3</th>\n",
       "      <td>Apr-10</td>\n",
       "      <td>-728133</td>\n",
       "    </tr>\n",
       "    <tr>\n",
       "      <th>4</th>\n",
       "      <td>May-10</td>\n",
       "      <td>852993</td>\n",
       "    </tr>\n",
       "  </tbody>\n",
       "</table>\n",
       "</div>"
      ],
      "text/plain": [
       "     Date  Profit/Losses\n",
       "0  Jan-10        1088983\n",
       "1  Feb-10        -354534\n",
       "2  Mar-10         276622\n",
       "3  Apr-10        -728133\n",
       "4  May-10         852993"
      ]
     },
     "execution_count": 6,
     "metadata": {},
     "output_type": "execute_result"
    }
   ],
   "source": [
    "#filepath = Path('Resources/budget_data.csv')\n",
    "#budget_df = pd.read_csv(filepath)"
   ]
  },
  {
   "cell_type": "code",
   "execution_count": 14,
   "id": "c6fe712e",
   "metadata": {},
   "outputs": [
    {
     "data": {
      "text/plain": [
       "22564198"
      ]
     },
     "execution_count": 14,
     "metadata": {},
     "output_type": "execute_result"
    }
   ],
   "source": [
    "#total_months = len(budget_df[\"Date\"].unique())\n",
    "#net_profits_loss = budget_df[\"Profit/Losses\"].sum()"
   ]
  },
  {
   "cell_type": "code",
   "execution_count": 40,
   "id": "59697164",
   "metadata": {},
   "outputs": [
    {
     "name": "stdout",
     "output_type": "stream",
     "text": [
      "[0, -354534, 631156, -1004755, 1581126, -289272, -1098929, 1167557, -806093, 1124485, -1736491, -408383, 604557, -294345, 1327485, 394323, 243585, -617439, -1530577, 1390390, -1130397, 1293604, 641758, -337413, -52031, -937192, 863841, -76245, -100481, -960729, 591856, 54930, 680102, -250254, -840415, 582358, -48628, -135256, 978586, -599210, -442789, 652924, -1005714, 1167373, -234900, -165147, -52275, -302320, 719028, -1825558, 1287083, -48303, 210234, -236414, 585165, -1400632, 839777, 465229, 317811, -760202, -71868, 795457, -182685, -1242836, 1371884, -445193, 10025, -1043998, 1350395, 80538, -1223250, 104148, 843924, -1808664, 1505005, 306402, -143603, -1266937, -162519, 1862002, -52986, -1627245, 616795, 628522, 90895, -224669]\n"
     ]
    }
   ],
   "source": [
    "filepath = os.path.join('Resources', 'budget_data.csv')\n",
    "profit_list = []\n",
    "profit_dict\n",
    "with open(filepath2, 'r') as file:\n",
    "    text = csv.reader(file)\n",
    "    next(text)\n",
    "    for row in text:\n",
    "        profit_list.append(row[1])\n",
    "\n",
    "profit_difference = []\n",
    "previous_value = 0\n",
    "current_value = 0\n",
    "\n",
    "for i in range(1len(profit_list)):\n",
    "    current_value = profit_list[i]\n",
    "    difference = int(current_value) - int(previous_value)\n",
    "    profit_difference.append(difference)\n",
    "    current_value = 0\n",
    "    previous_value = profit_list[i]\n",
    "print(profit_difference)        "
   ]
  },
  {
   "cell_type": "code",
   "execution_count": 41,
   "id": "11ed6ccc",
   "metadata": {},
   "outputs": [
    {
     "data": {
      "text/plain": [
       "4448.127906976744"
      ]
     },
     "execution_count": 41,
     "metadata": {},
     "output_type": "execute_result"
    }
   ],
   "source": [
    "sum(profit_dfference[1:]) / 86"
   ]
  },
  {
   "cell_type": "code",
   "execution_count": 27,
   "id": "e3154518",
   "metadata": {},
   "outputs": [
    {
     "data": {
      "text/plain": [
       "1862002"
      ]
     },
     "execution_count": 27,
     "metadata": {},
     "output_type": "execute_result"
    }
   ],
   "source": [
    "max(profit_difference[1:])"
   ]
  },
  {
   "cell_type": "code",
   "execution_count": 28,
   "id": "1eebe3a0",
   "metadata": {},
   "outputs": [
    {
     "data": {
      "text/plain": [
       "-1825558"
      ]
     },
     "execution_count": 28,
     "metadata": {},
     "output_type": "execute_result"
    }
   ],
   "source": [
    "min(profit_difference[1:])"
   ]
  },
  {
   "cell_type": "code",
   "execution_count": 38,
   "id": "9cf8a6b5",
   "metadata": {},
   "outputs": [
    {
     "data": {
      "text/plain": [
       "86"
      ]
     },
     "execution_count": 38,
     "metadata": {},
     "output_type": "execute_result"
    }
   ],
   "source": [
    "len(profit_difference)"
   ]
  },
  {
   "cell_type": "code",
   "execution_count": 43,
   "id": "d99a70fd",
   "metadata": {},
   "outputs": [
    {
     "name": "stdout",
     "output_type": "stream",
     "text": [
      "[1088983, -1443517, 631156, -1004755, 1581126, -289272, -1098929, 1167557, -806093, 1124485, -1736491, -408383, 604557, -294345, 1327485, 394323, 243585, -617439, -1530577, 1390390, -1130397, 1293604, 641758, -337413, -52031, -937192, 863841, -76245, -100481, -960729, 591856, 54930, 680102, -250254, -840415, 582358, -48628, -135256, 978586, -599210, -442789, 652924, -1005714, 1167373, -234900, -165147, -52275, -302320, 719028, -1825558, 1287083, -48303, 210234, -236414, 585165, -1400632, 839777, 465229, 317811, -760202, -71868, 795457, -182685, -1242836, 1371884, -445193, 10025, -1043998, 1350395, 80538, -1223250, 104148, 843924, -1808664, 1505005, 306402, -143603, -1266937, -162519, 1862002, -52986, -1627245, 616795, 628522, 90895, -224669]\n"
     ]
    }
   ],
   "source": [
    "profit_difference = []\n",
    "previous_value = 0\n",
    "current_value = 0\n",
    "for i in range(len(profit_list)):\n",
    "    current_value = profit_list[i]\n",
    "    difference = int(current_value) - int(previous_value)\n",
    "    profit_difference.append(difference)\n",
    "    current_value = 0\n",
    "    previous_value = profit_list[i]\n",
    "print(profit_difference)        "
   ]
  },
  {
   "cell_type": "code",
   "execution_count": 3,
   "id": "f53af4f6",
   "metadata": {},
   "outputs": [
    {
     "ename": "SyntaxError",
     "evalue": "invalid syntax (3301858058.py, line 55)",
     "output_type": "error",
     "traceback": [
      "\u001b[0;36m  Cell \u001b[0;32mIn[3], line 55\u001b[0;36m\u001b[0m\n\u001b[0;31m    writer.writerow([{total_months}, ${total_profits_losses}, ${avg_change}, ${largest_increase}, ${largest_loss}])\u001b[0m\n\u001b[0m                                     ^\u001b[0m\n\u001b[0;31mSyntaxError\u001b[0m\u001b[0;31m:\u001b[0m invalid syntax\n"
     ]
    }
   ],
   "source": [
    "import os\n",
    "import csv\n",
    "\n",
    "filepath = os.path.join('Resources', 'budget_data.csv')\n",
    "\n",
    "# Create dictionary with month amd profit/loss information\n",
    "budget_dict = {}\n",
    "with open(filepath, 'r') as file:\n",
    "    text = csv.reader(file, delimiter=',')\n",
    "    next(text)\n",
    "    for row in text:\n",
    "        budget_dict[row[0]] = int(row[1])\n",
    "\n",
    "# Find profit/loss difference between the months and store that into a dictionary\n",
    "budget_diff = {}\n",
    "previous_value = 0\n",
    "current_value = 0\n",
    "for key, value in budget_dict.items():\n",
    "    current_value = budget_dict[key]\n",
    "    difference = current_value - previous_value\n",
    "    budget_diff[key] = difference\n",
    "    previous_value = budget_dict[key]\n",
    "\n",
    "# Create list to do average calculations while ecluding first value\n",
    "budget_list = []\n",
    "for value in budget_diff.values():\n",
    "    budget_list.append(value)\n",
    "\n",
    "# Find the largest profit, largest loss values for the analysis\n",
    "total_months = len(budget_dict)\n",
    "total_profits_losses = sum(budget_dict.values())\n",
    "# ignore first month's entry because that is the starting point and will have no difference\n",
    "avg_change = round(sum(budget_list[1:])/(len(budget_list) - 1),2)\n",
    "largest_increase = max(budget_diff.values())\n",
    "largest_loss = min(budget_diff.values())\n",
    "\n",
    "# Print requested values to terminal\n",
    "print('Financial Analysis for pyBank: ')\n",
    "print(f'Total Months: {total_months}')\n",
    "print(f'Total: ${total_profits_losses}')\n",
    "print(f'Average Change: ${avg_change}')\n",
    "for key, value in budget_diff.items():\n",
    "    if budget_diff[key] == largest_increase:\n",
    "        print(f'Greatest Increase in Profits: {key} (${value})')\n",
    "        \n",
    "for key2, value2 in budget_diff.items():\n",
    "    if budget_diff[key2] == largest_loss:\n",
    "        print(f'Greatest Decrease in Profits: {key2} (${value2})')\n",
    "\n",
    "# Export results to analysis folder\n",
    "writing_path = os.path.join('analysis', 'results.csv')\n",
    "with open(writing_path, 'w') as newfile:\n",
    "    writer = csv.writer(newfile, delimiter=',')\n",
    "    writer.writerow(['Total Months', 'Total', 'Average Change', 'Greatest Increase in Profits', 'Greatest Decrease in Profits'])\n",
    "    writer.writerow([f'{total_months}, ${total_profits_losses}, ${avg_change}, ${largest_increase}, ${largest_loss}'])"
   ]
  },
  {
   "cell_type": "code",
   "execution_count": null,
   "id": "06b7fb9e",
   "metadata": {},
   "outputs": [],
   "source": []
  }
 ],
 "metadata": {
  "kernelspec": {
   "display_name": "Python 3 (ipykernel)",
   "language": "python",
   "name": "python3"
  },
  "language_info": {
   "codemirror_mode": {
    "name": "ipython",
    "version": 3
   },
   "file_extension": ".py",
   "mimetype": "text/x-python",
   "name": "python",
   "nbconvert_exporter": "python",
   "pygments_lexer": "ipython3",
   "version": "3.10.13"
  }
 },
 "nbformat": 4,
 "nbformat_minor": 5
}
